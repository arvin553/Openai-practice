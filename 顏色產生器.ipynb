{
  "cells": [
    {
      "cell_type": "code",
      "execution_count": null,
      "metadata": {
        "id": "-HF7CVoXekeE"
      },
      "outputs": [],
      "source": [
        "!pip install openai"
      ]
    },
    {
      "cell_type": "code",
      "execution_count": null,
      "metadata": {
        "id": "53zYtKIBeqAe"
      },
      "outputs": [],
      "source": [
        "import openai"
      ]
    },
    {
      "cell_type": "code",
      "execution_count": null,
      "metadata": {
        "id": "TInkb-1xeqHf"
      },
      "outputs": [],
      "source": [
        "!pip install python-dotenv"
      ]
    },
    {
      "cell_type": "code",
      "execution_count": null,
      "metadata": {
        "id": "NdkhTk44eqLC"
      },
      "outputs": [],
      "source": [
        "from dotenv import dotenv_values\n",
        "config=dotenv_values('.env')\n",
        "config['API_KEY']"
      ]
    },
    {
      "cell_type": "code",
      "execution_count": null,
      "metadata": {
        "id": "hPUwofqmeqOY"
      },
      "outputs": [],
      "source": [
        "openai.api_key= config['API_KEY']"
      ]
    },
    {
      "cell_type": "code",
      "execution_count": null,
      "metadata": {
        "id": "eMxvX84ueqRf"
      },
      "outputs": [],
      "source": [
        "import json\n",
        "\n",
        "def generate_color(text):\n",
        "  prompt=f\"\"\"\n",
        "    根據一下文字產生2到6個相關的顏色\n",
        "\n",
        "    輸出格式: python列表， 列表的值是16進制顏色編碼\n",
        "\n",
        "    ###\n",
        "    google\n",
        "    ###\n",
        "    [\"#F4B400\",\"#EA4335\",\"#34A853\",\"#4285F4\"]\n",
        "\n",
        "    ###\n",
        "    Facebook\n",
        "    ###\n",
        "    [\"#4267B2\", \"#3B5998\"]\n",
        "\n",
        "    ###\n",
        "    {text}\n",
        "    ###\n",
        "  \"\"\"\n",
        "\n",
        "  res=openai.Completion.create(\n",
        "    model=\"text-davinci-003\",  #選擇要用的模型\n",
        "    prompt=prompt,\n",
        "    max_tokens=200,\n",
        "    )\n",
        "  colors = json.loads(res[\"choices\"][0][\"text\"]) #將這一段顏色字串做解析，解析成Python列表\n",
        "  html=''\n",
        "  for i in colors:\n",
        "    html += f\"<div style='background-color:{i}'>{i}</div>\"\n",
        "\n",
        "  return html"
      ]
    },
    {
      "cell_type": "code",
      "execution_count": null,
      "metadata": {
        "id": "IDtj0XSheqat"
      },
      "outputs": [],
      "source": []
    },
    {
      "cell_type": "code",
      "execution_count": null,
      "metadata": {
        "id": "hBH5xXuReqgf"
      },
      "outputs": [],
      "source": [
        "!pip install gradio"
      ]
    },
    {
      "cell_type": "code",
      "execution_count": null,
      "metadata": {
        "id": "f47Ilh-zeql6"
      },
      "outputs": [],
      "source": [
        "import gradio as gr"
      ]
    },
    {
      "cell_type": "code",
      "execution_count": null,
      "metadata": {
        "id": "QuY1U306nMfC"
      },
      "outputs": [],
      "source": [
        "demo=gr.Interface(\n",
        "      fn=generate_color,\n",
        "      inputs=\"text\",\n",
        "      outputs=\"html\",\n",
        "      title=\"顏色產生器\",\n",
        "      description=\"輸入一段文字，產生2~6個相關的顏色\",\n",
        "      allow_flagging=\"never\"\n",
        "      )\n",
        "demo.launch()"
      ]
    },
    {
      "cell_type": "code",
      "execution_count": null,
      "metadata": {
        "id": "mtk5F5munMkB"
      },
      "outputs": [],
      "source": []
    },
    {
      "cell_type": "code",
      "execution_count": null,
      "metadata": {
        "id": "JwT3lK3UnMsB"
      },
      "outputs": [],
      "source": []
    }
  ],
  "metadata": {
    "colab": {
      "provenance": []
    },
    "kernelspec": {
      "display_name": "Python 3",
      "name": "python3"
    },
    "language_info": {
      "name": "python"
    }
  },
  "nbformat": 4,
  "nbformat_minor": 0
}
